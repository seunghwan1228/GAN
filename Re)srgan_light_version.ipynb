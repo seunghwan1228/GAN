{
  "nbformat": 4,
  "nbformat_minor": 0,
  "metadata": {
    "colab": {
      "name": "Re)srgan_light_version.ipynb",
      "provenance": [],
      "collapsed_sections": [],
      "machine_shape": "hm",
      "mount_file_id": "1ifyAgHwGrVMUr3BQ_SMtNakhPfOwFDUJ",
      "authorship_tag": "ABX9TyMl3v4J2mU/9yzUaj1XkH0J",
      "include_colab_link": true
    },
    "kernelspec": {
      "name": "python3",
      "display_name": "Python 3"
    },
    "widgets": {
      "application/vnd.jupyter.widget-state+json": {
        "8916944aba2f415bbe7f378c9f09ad6e": {
          "model_module": "@jupyter-widgets/controls",
          "model_name": "HBoxModel",
          "state": {
            "_view_name": "HBoxView",
            "_dom_classes": [],
            "_model_name": "HBoxModel",
            "_view_module": "@jupyter-widgets/controls",
            "_model_module_version": "1.5.0",
            "_view_count": null,
            "_view_module_version": "1.5.0",
            "box_style": "",
            "layout": "IPY_MODEL_a553c4860f164c0bba7c498e3151eae7",
            "_model_module": "@jupyter-widgets/controls",
            "children": [
              "IPY_MODEL_66e9d436f700421a85c4eae1963a1e05",
              "IPY_MODEL_6a486de818174fa29e57be7ff46e8e72"
            ]
          }
        },
        "a553c4860f164c0bba7c498e3151eae7": {
          "model_module": "@jupyter-widgets/base",
          "model_name": "LayoutModel",
          "state": {
            "_view_name": "LayoutView",
            "grid_template_rows": null,
            "right": null,
            "justify_content": null,
            "_view_module": "@jupyter-widgets/base",
            "overflow": null,
            "_model_module_version": "1.2.0",
            "_view_count": null,
            "flex_flow": null,
            "width": null,
            "min_width": null,
            "border": null,
            "align_items": null,
            "bottom": null,
            "_model_module": "@jupyter-widgets/base",
            "top": null,
            "grid_column": null,
            "overflow_y": null,
            "overflow_x": null,
            "grid_auto_flow": null,
            "grid_area": null,
            "grid_template_columns": null,
            "flex": null,
            "_model_name": "LayoutModel",
            "justify_items": null,
            "grid_row": null,
            "max_height": null,
            "align_content": null,
            "visibility": null,
            "align_self": null,
            "height": null,
            "min_height": null,
            "padding": null,
            "grid_auto_rows": null,
            "grid_gap": null,
            "max_width": null,
            "order": null,
            "_view_module_version": "1.2.0",
            "grid_template_areas": null,
            "object_position": null,
            "object_fit": null,
            "grid_auto_columns": null,
            "margin": null,
            "display": null,
            "left": null
          }
        },
        "66e9d436f700421a85c4eae1963a1e05": {
          "model_module": "@jupyter-widgets/controls",
          "model_name": "FloatProgressModel",
          "state": {
            "_view_name": "ProgressView",
            "style": "IPY_MODEL_29666a7385a84179bf692cc8a7f081de",
            "_dom_classes": [],
            "description": "  1%",
            "_model_name": "FloatProgressModel",
            "bar_style": "",
            "max": 100,
            "_view_module": "@jupyter-widgets/controls",
            "_model_module_version": "1.5.0",
            "value": 1,
            "_view_count": null,
            "_view_module_version": "1.5.0",
            "orientation": "horizontal",
            "min": 0,
            "description_tooltip": null,
            "_model_module": "@jupyter-widgets/controls",
            "layout": "IPY_MODEL_8a8de7bd4a0e42b6a588a42de4c06e5d"
          }
        },
        "6a486de818174fa29e57be7ff46e8e72": {
          "model_module": "@jupyter-widgets/controls",
          "model_name": "HTMLModel",
          "state": {
            "_view_name": "HTMLView",
            "style": "IPY_MODEL_680d18ff7a034b3ebbd2630bbc246476",
            "_dom_classes": [],
            "description": "",
            "_model_name": "HTMLModel",
            "placeholder": "​",
            "_view_module": "@jupyter-widgets/controls",
            "_model_module_version": "1.5.0",
            "value": " 1/100 [14:32&lt;23:59:43, 872.56s/it]",
            "_view_count": null,
            "_view_module_version": "1.5.0",
            "description_tooltip": null,
            "_model_module": "@jupyter-widgets/controls",
            "layout": "IPY_MODEL_b409e7746aff4927a3ab016cc4d7ab69"
          }
        },
        "29666a7385a84179bf692cc8a7f081de": {
          "model_module": "@jupyter-widgets/controls",
          "model_name": "ProgressStyleModel",
          "state": {
            "_view_name": "StyleView",
            "_model_name": "ProgressStyleModel",
            "description_width": "initial",
            "_view_module": "@jupyter-widgets/base",
            "_model_module_version": "1.5.0",
            "_view_count": null,
            "_view_module_version": "1.2.0",
            "bar_color": null,
            "_model_module": "@jupyter-widgets/controls"
          }
        },
        "8a8de7bd4a0e42b6a588a42de4c06e5d": {
          "model_module": "@jupyter-widgets/base",
          "model_name": "LayoutModel",
          "state": {
            "_view_name": "LayoutView",
            "grid_template_rows": null,
            "right": null,
            "justify_content": null,
            "_view_module": "@jupyter-widgets/base",
            "overflow": null,
            "_model_module_version": "1.2.0",
            "_view_count": null,
            "flex_flow": null,
            "width": null,
            "min_width": null,
            "border": null,
            "align_items": null,
            "bottom": null,
            "_model_module": "@jupyter-widgets/base",
            "top": null,
            "grid_column": null,
            "overflow_y": null,
            "overflow_x": null,
            "grid_auto_flow": null,
            "grid_area": null,
            "grid_template_columns": null,
            "flex": null,
            "_model_name": "LayoutModel",
            "justify_items": null,
            "grid_row": null,
            "max_height": null,
            "align_content": null,
            "visibility": null,
            "align_self": null,
            "height": null,
            "min_height": null,
            "padding": null,
            "grid_auto_rows": null,
            "grid_gap": null,
            "max_width": null,
            "order": null,
            "_view_module_version": "1.2.0",
            "grid_template_areas": null,
            "object_position": null,
            "object_fit": null,
            "grid_auto_columns": null,
            "margin": null,
            "display": null,
            "left": null
          }
        },
        "680d18ff7a034b3ebbd2630bbc246476": {
          "model_module": "@jupyter-widgets/controls",
          "model_name": "DescriptionStyleModel",
          "state": {
            "_view_name": "StyleView",
            "_model_name": "DescriptionStyleModel",
            "description_width": "",
            "_view_module": "@jupyter-widgets/base",
            "_model_module_version": "1.5.0",
            "_view_count": null,
            "_view_module_version": "1.2.0",
            "_model_module": "@jupyter-widgets/controls"
          }
        },
        "b409e7746aff4927a3ab016cc4d7ab69": {
          "model_module": "@jupyter-widgets/base",
          "model_name": "LayoutModel",
          "state": {
            "_view_name": "LayoutView",
            "grid_template_rows": null,
            "right": null,
            "justify_content": null,
            "_view_module": "@jupyter-widgets/base",
            "overflow": null,
            "_model_module_version": "1.2.0",
            "_view_count": null,
            "flex_flow": null,
            "width": null,
            "min_width": null,
            "border": null,
            "align_items": null,
            "bottom": null,
            "_model_module": "@jupyter-widgets/base",
            "top": null,
            "grid_column": null,
            "overflow_y": null,
            "overflow_x": null,
            "grid_auto_flow": null,
            "grid_area": null,
            "grid_template_columns": null,
            "flex": null,
            "_model_name": "LayoutModel",
            "justify_items": null,
            "grid_row": null,
            "max_height": null,
            "align_content": null,
            "visibility": null,
            "align_self": null,
            "height": null,
            "min_height": null,
            "padding": null,
            "grid_auto_rows": null,
            "grid_gap": null,
            "max_width": null,
            "order": null,
            "_view_module_version": "1.2.0",
            "grid_template_areas": null,
            "object_position": null,
            "object_fit": null,
            "grid_auto_columns": null,
            "margin": null,
            "display": null,
            "left": null
          }
        }
      }
    },
    "accelerator": "GPU"
  },
  "cells": [
    {
      "cell_type": "markdown",
      "metadata": {
        "id": "view-in-github",
        "colab_type": "text"
      },
      "source": [
        "<a href=\"https://colab.research.google.com/github/seunghwan1228/GAN/blob/master/Re)srgan_light_version.ipynb\" target=\"_parent\"><img src=\"https://colab.research.google.com/assets/colab-badge.svg\" alt=\"Open In Colab\"/></a>"
      ]
    },
    {
      "cell_type": "code",
      "metadata": {
        "id": "swratpbyrmX0",
        "colab_type": "code",
        "colab": {
          "base_uri": "https://localhost:8080/",
          "height": 68
        },
        "outputId": "9e084765-3b8e-48d4-cd6a-09641b92cbef"
      },
      "source": [
        "!kaggle datasets download jessicali9530/celeba-dataset"
      ],
      "execution_count": 2,
      "outputs": [
        {
          "output_type": "stream",
          "text": [
            "Downloading celeba-dataset.zip to /content\n",
            " 98% 1.31G/1.33G [00:15<00:00, 39.1MB/s]\n",
            "100% 1.33G/1.33G [00:16<00:00, 89.1MB/s]\n"
          ],
          "name": "stdout"
        }
      ]
    },
    {
      "cell_type": "code",
      "metadata": {
        "id": "dSrpMeAcrrah",
        "colab_type": "code",
        "colab": {
          "base_uri": "https://localhost:8080/",
          "height": 34
        },
        "outputId": "dde0d0cc-1be5-44ed-b582-255ebe926ce4"
      },
      "source": [
        "!nohup unzip /content/celeba-dataset.zip -d /content/dataset/ &"
      ],
      "execution_count": 3,
      "outputs": [
        {
          "output_type": "stream",
          "text": [
            "nohup: appending output to 'nohup.out'\n"
          ],
          "name": "stdout"
        }
      ]
    },
    {
      "cell_type": "code",
      "metadata": {
        "id": "7poEcpg_sTiQ",
        "colab_type": "code",
        "colab": {}
      },
      "source": [
        "import numpy as np\n",
        "import matplotlib.pyplot as plt\n",
        "import tensorflow as tf\n",
        "import tensorflow_addons as tfa\n",
        "\n",
        "import os"
      ],
      "execution_count": 4,
      "outputs": []
    },
    {
      "cell_type": "markdown",
      "metadata": {
        "id": "vu_g4QIrrtDI",
        "colab_type": "text"
      },
      "source": [
        "Data Processing"
      ]
    },
    {
      "cell_type": "code",
      "metadata": {
        "id": "OdQ-opIhryYQ",
        "colab_type": "code",
        "colab": {}
      },
      "source": [
        "dir_path = '/content/dataset/img_align_celeba/img_align_celeba/'"
      ],
      "execution_count": 5,
      "outputs": []
    },
    {
      "cell_type": "code",
      "metadata": {
        "id": "RwFKlHzXtsjB",
        "colab_type": "code",
        "colab": {
          "base_uri": "https://localhost:8080/",
          "height": 34
        },
        "outputId": "9fe1f96e-6ee1-41a2-b60b-355aa03123d8"
      },
      "source": [
        "len(os.listdir(dir_path))"
      ],
      "execution_count": 6,
      "outputs": [
        {
          "output_type": "execute_result",
          "data": {
            "text/plain": [
              "20714"
            ]
          },
          "metadata": {
            "tags": []
          },
          "execution_count": 6
        }
      ]
    },
    {
      "cell_type": "code",
      "metadata": {
        "id": "vDnAvujor13u",
        "colab_type": "code",
        "colab": {}
      },
      "source": [
        "hr_height = 128\n",
        "hr_width = 128\n",
        "\n",
        "lr_height = hr_height // 4\n",
        "lr_width = hr_width // 4"
      ],
      "execution_count": 7,
      "outputs": []
    },
    {
      "cell_type": "code",
      "metadata": {
        "id": "-WNbMI_xsIFl",
        "colab_type": "code",
        "colab": {}
      },
      "source": [
        "def img_shape_checker(img_path):\n",
        "  img = tf.keras.preprocessing.image.load_img(img_path)\n",
        "  img_array = tf.keras.preprocessing.image.img_to_array(img)\n",
        "  return img_array\n",
        "\n",
        "\n",
        "def img_generator():\n",
        "  size = 0.5\n",
        "  total_length = len(os.listdir(dir_path))\n",
        "  data_select_prop = int(total_length * size)\n",
        "  for img_path in os.listdir(dir_path)[:data_select_prop]:\n",
        "    yield img_shape_checker(os.path.join(dir_path, img_path))\n",
        "\n",
        "\n",
        "def create_low_resolution_image(img, hr_height=128, hr_width=128):\n",
        "  if len(img.shape) == 4:\n",
        "    img_height = img.shape[1]\n",
        "    img_width = img.shape[2]\n",
        "  else:\n",
        "    img_height = img.shape[0]\n",
        "    img_width = img.shape[1]\n",
        "\n",
        "  img_lr_height = img_height//4\n",
        "  img_lr_width = img_width//4\n",
        "\n",
        "  img_lr = tf.image.resize(img, \n",
        "                           size=(img_lr_height, img_lr_width), \n",
        "                           method = tf.image.ResizeMethod.BICUBIC)\n",
        "  \n",
        "  img_hr = tf.image.resize(img, \n",
        "                           size = (hr_height, hr_width),\n",
        "                           method = tf.image.ResizeMethod.NEAREST_NEIGHBOR)\n",
        "  \n",
        "  return img_hr, img_lr \n",
        "\n",
        "\n",
        "def flip_img(hr_img, lr_img):\n",
        "  flip_seed = tf.random.uniform(shape=(1, ), minval=0., maxval=1.)\n",
        "  if flip_seed > 0.5:\n",
        "    hr_img = tf.image.flip_left_right(hr_img)\n",
        "    lr_img = tf.image.flip_left_right(lr_img)\n",
        "  return hr_img, lr_img\n",
        "\n",
        "\n",
        "def resize_img(img):\n",
        "  return tf.image.resize(img, \n",
        "                         size = (hr_height, hr_width),\n",
        "                         method = tf.image.ResizeMethod.NEAREST_NEIGHBOR)\n",
        "  \n",
        "\n",
        "def img_normalize(img):\n",
        "  return (img / 127.5) - 1\n",
        "\n",
        "\n",
        "def img_denormalize(img):\n",
        "  return (img + 1) * 127.5\n",
        "\n",
        "\n",
        "def img_simple_normalize(img):\n",
        "  return img / 255.\n",
        "\n",
        "\n",
        "def pixel_shuffle(scale):\n",
        "  return lambda x : tf.nn.depth_to_space(x, scale)"
      ],
      "execution_count": 8,
      "outputs": []
    },
    {
      "cell_type": "code",
      "metadata": {
        "id": "6W6iEM9GtkN-",
        "colab_type": "code",
        "colab": {}
      },
      "source": [
        "# Datasets size = 202599\n",
        "# Get only 100000\n",
        "\n",
        "BUFFER_SIZE = 1000\n",
        "BATCH_SIZE = 16\n",
        "\n",
        "dataset = tf.data.Dataset.from_generator(img_generator, \n",
        "                                         output_types=tf.int32, \n",
        "                                         output_shapes=(218, 178, 3))\n",
        "\n",
        "dataset = dataset.map(resize_img,num_parallel_calls=tf.data.experimental.AUTOTUNE)\n",
        "\n",
        "dataset = dataset.map(create_low_resolution_image,\n",
        "                      num_parallel_calls=tf.data.experimental.AUTOTUNE)\n",
        "\n",
        "dataset = dataset.map(flip_img,\n",
        "                      num_parallel_calls=tf.data.experimental.AUTOTUNE)\n",
        "\n",
        "dataset = dataset.cache()\n",
        "# dataset = dataset.shuffle(BUFFER_SIZE)\n",
        "dataset = dataset.batch(BATCH_SIZE, drop_remainder=True)\n",
        "dataset = dataset.prefetch(tf.data.experimental.AUTOTUNE)"
      ],
      "execution_count": 9,
      "outputs": []
    },
    {
      "cell_type": "code",
      "metadata": {
        "id": "2EPskiniunzj",
        "colab_type": "code",
        "colab": {
          "base_uri": "https://localhost:8080/",
          "height": 34
        },
        "outputId": "7bd594c3-8dc6-497f-b343-40fc79301b6a"
      },
      "source": [
        "dataset"
      ],
      "execution_count": 10,
      "outputs": [
        {
          "output_type": "execute_result",
          "data": {
            "text/plain": [
              "<PrefetchDataset shapes: ((16, 128, 128, 3), (16, 32, 32, 3)), types: (tf.int32, tf.float32)>"
            ]
          },
          "metadata": {
            "tags": []
          },
          "execution_count": 10
        }
      ]
    },
    {
      "cell_type": "code",
      "metadata": {
        "id": "o9EfXT9VvXQA",
        "colab_type": "code",
        "colab": {
          "base_uri": "https://localhost:8080/",
          "height": 216
        },
        "outputId": "4ee21d67-9b57-45dd-d0ad-ec1fdc352bdc"
      },
      "source": [
        "for chk_hr, chk_lr in dataset.take(1):\n",
        "  chk_hr = chk_hr[0].numpy()\n",
        "  chk_lr = chk_lr[0].numpy()\n",
        "\n",
        "  plt.subplot(1, 2, 1)\n",
        "  plt.imshow(chk_hr)\n",
        "  plt.title('High Resolution : (128, 128)')\n",
        "  plt.axis('off')\n",
        "  \n",
        "  plt.subplot(1, 2, 2)\n",
        "  plt.imshow(chk_lr.astype('int'))\n",
        "  plt.title('Low Resolution : (32, 32)')\n",
        "  plt.axis('off')"
      ],
      "execution_count": 11,
      "outputs": [
        {
          "output_type": "stream",
          "text": [
            "Clipping input data to the valid range for imshow with RGB data ([0..1] for floats or [0..255] for integers).\n"
          ],
          "name": "stderr"
        },
        {
          "output_type": "display_data",
          "data": {
            "image/png": "[encoded data removed]",
            "text/plain": [
              "<Figure size 432x288 with 2 Axes>"
            ]
          },
          "metadata": {
            "tags": [],
            "needs_background": "light"
          }
        }
      ]
    },
    {
      "cell_type": "code",
      "metadata": {
        "id": "7F0dAAmxwNt0",
        "colab_type": "code",
        "colab": {}
      },
      "source": [
        "# Generator Block\n",
        "\n",
        "def residual_block(input_data):\n",
        "  kernel_init = tf.keras.initializers.random_normal(mean=0.0, stddev=0.02)\n",
        "  x = tf.keras.layers.Conv2D(64, 3, 1, padding='same', kernel_initializer=kernel_init)(input_data)\n",
        "  x = tf.keras.layers.BatchNormalization(momentum=0.8, epsilon=1e-9)(x)\n",
        "  x = tf.keras.layers.PReLU(shared_axes=[1,2])(x)\n",
        "  x = tf.keras.layers.Conv2D(64, 3, 1, padding='same', kernel_initializer=kernel_init)(x)\n",
        "  x = tf.keras.layers.BatchNormalization(momentum=0.8, epsilon=1e-9)(x)\n",
        "  x = x + input_data\n",
        "  return x\n",
        "\n",
        "def upsample_block(input_data):\n",
        "  kernel_init = tf.keras.initializers.random_normal(mean=0.0, stddev=0.02)\n",
        "  x = tf.keras.layers.Conv2D(256, 3, 1, padding='same', kernel_initializer=kernel_init)(input_data)\n",
        "  x = tf.keras.layers.Lambda(pixel_shuffle(2))(x)\n",
        "  x = tf.keras.layers.PReLU(shared_axes=[1,2])(x)\n",
        "  return x\n",
        "\n",
        "\n",
        "n_residual_blocks = 6\n",
        "\n",
        "def sr_generator(input_height, input_width):\n",
        "  kernel_init = tf.keras.initializers.random_normal(mean=0.0, stddev=0.02)\n",
        "  input_ = tf.keras.layers.Input(shape = (input_height, input_width, 3))  # 64, 64, 3\n",
        "\n",
        "  gen_normalize = tf.keras.layers.Lambda(img_simple_normalize)(input_)\n",
        "\n",
        "  x = tf.keras.layers.Conv2D(64, 9, 1, padding='same', kernel_initializer=kernel_init)(gen_normalize)                            # 64, 64, 64\n",
        "  x = tf.keras.layers.PReLU(shared_axes=[1,2])(x)                                          # 64, 64, 64\n",
        "\n",
        "  top_reserve = x\n",
        "\n",
        "  for _ in range(n_residual_blocks):\n",
        "    x = residual_block(x)\n",
        "\n",
        "  x = tf.keras.layers.Conv2D(64, 3, 1, padding='same', kernel_initializer=kernel_init)(x)\n",
        "  x = tf.keras.layers.BatchNormalization(momentum=0.8, epsilon=1e-9)(x)\n",
        "  x = x + top_reserve\n",
        "\n",
        "  for _ in range(2):\n",
        "    x = upsample_block(x)\n",
        "  \n",
        "  x = tf.keras.layers.Conv2D(3, 9, 1, padding='same', kernel_initializer=kernel_init)(x)\n",
        "\n",
        "  x = tf.keras.layers.Lambda(img_denormalize)(x)\n",
        "  model = tf.keras.models.Model(input_, x)\n",
        "  return model"
      ],
      "execution_count": 12,
      "outputs": []
    },
    {
      "cell_type": "code",
      "metadata": {
        "id": "iLxPe1iqzJMZ",
        "colab_type": "code",
        "colab": {}
      },
      "source": [
        "# Discriminator\n",
        "\n",
        "def conv_block(input_data, filters, strides):\n",
        "  kernel_init = tf.keras.initializers.random_normal(mean=0.0, stddev=0.02)\n",
        "  x = tf.keras.layers.Conv2D(filters, 3, strides=strides, padding='same', kernel_initializer=kernel_init)(input_data)\n",
        "  x = tf.keras.layers.BatchNormalization(momentum=0.8, epsilon=1e-9)(x)\n",
        "  x = tf.keras.layers.LeakyReLU(alpha=0.2)(x)\n",
        "  return x\n",
        "\n",
        "\n",
        "def sr_discriminator(hr_height, hr_width):\n",
        "  kernel_init = tf.keras.initializers.random_normal(mean=0.0, stddev=0.02)\n",
        "  input_ = tf.keras.layers.Input(shape = (hr_height, hr_width, 3))\n",
        "\n",
        "  normalize = tf.keras.layers.Lambda(img_normalize)(input_)\n",
        "\n",
        "  x = tf.keras.layers.Conv2D(64, 3, 1, padding='same', kernel_initializer=kernel_init)(normalize)\n",
        "  x = tf.keras.layers.LeakyReLU(0.2)(x)\n",
        "  b1 = conv_block(x, 64, 2)\n",
        "  b2 = conv_block(b1, 128, 1)\n",
        "  b3 = conv_block(b2, 128, 2)\n",
        "  b4 = conv_block(b3, 256, 1)\n",
        "  b5 = conv_block(b4, 256, 2)\n",
        "  b6 = conv_block(b5, 512, 1)\n",
        "  b7 = conv_block(b6, 512, 2)\n",
        "\n",
        "  d1 = tf.keras.layers.Flatten()(b7)\n",
        "  d1 = tf.keras.layers.Dense(1024, kernel_initializer=kernel_init)(d1)\n",
        "  d1 = tf.keras.layers.LeakyReLU(0.2)(d1)\n",
        "\n",
        "  d2 = tf.keras.layers.Dense(1, activation='sigmoid')(d1)\n",
        "\n",
        "  model = tf.keras.models.Model(input_, d2)  #1,\n",
        "  return model"
      ],
      "execution_count": 13,
      "outputs": []
    },
    {
      "cell_type": "code",
      "metadata": {
        "id": "A1SN4Nt4zMzW",
        "colab_type": "code",
        "colab": {}
      },
      "source": [
        "def vgg_feature_extraction():\n",
        "  vgg_model = tf.keras.applications.VGG19(include_top=False, weights='imagenet')\n",
        "  vgg_selection = vgg_model.layers[:-1]\n",
        "  vgg_selection_model = tf.keras.Sequential(vgg_selection)\n",
        "  vgg_selection_model.trainable=False\n",
        "  return vgg_selection_model  # output : (16, 16, 512)"
      ],
      "execution_count": 14,
      "outputs": []
    },
    {
      "cell_type": "code",
      "metadata": {
        "id": "bjm1DrLZzO2Q",
        "colab_type": "code",
        "colab": {}
      },
      "source": [
        "def get_feature_result(input_, vgg_model):\n",
        "  preprocessed = tf.keras.applications.vgg19.preprocess_input(input_)\n",
        "  return vgg_model(preprocessed)"
      ],
      "execution_count": 15,
      "outputs": []
    },
    {
      "cell_type": "code",
      "metadata": {
        "id": "8eWCx3UpzQTo",
        "colab_type": "code",
        "colab": {}
      },
      "source": [
        "# Content Loss (Pixel-wise MSE)\n",
        "\n",
        "r = 4\n",
        "\n",
        "# target = 256, 256, 3\n",
        "# pred = 256, 256, 3\n",
        "\n",
        "def compute_content_mse_loss(target, pred, r):\n",
        "  pixel_mse = tf.losses.mean_squared_error(target, pred)\n",
        "  return (1/r**2) * pixel_mse"
      ],
      "execution_count": 16,
      "outputs": []
    },
    {
      "cell_type": "code",
      "metadata": {
        "id": "YKT9PyaBzUGD",
        "colab_type": "code",
        "colab": {}
      },
      "source": [
        "# Compute VGG loss\n",
        "\n",
        "def compute_content_vgg_loss(target, pred, vgg_model):\n",
        "  vgg_hr = get_feature_result(target, vgg_model) / 12.75\n",
        "  vgg_sr = get_feature_result(pred, vgg_model) / 12.75\n",
        "\n",
        "  vgg_content_loss = tf.keras.losses.mean_squared_error(vgg_hr, vgg_sr)\n",
        "  return vgg_content_loss"
      ],
      "execution_count": 17,
      "outputs": []
    },
    {
      "cell_type": "code",
      "metadata": {
        "id": "6UA1bDc6zVpr",
        "colab_type": "code",
        "colab": {}
      },
      "source": [
        "loss_object = tf.keras.losses.BinaryCrossentropy(from_logits=False)\n",
        "\n",
        "def compute_generator_loss(generated_output):\n",
        "  return loss_object(tf.ones_like(generated_output), generated_output)\n",
        "\n",
        "\n",
        "def compute_discriminator_loss(hr_output, sr_output):\n",
        "  hr_loss = loss_object(tf.ones_like(hr_output), hr_output)\n",
        "  sr_loss = loss_object(tf.zeros_like(sr_output), sr_output)\n",
        "  return hr_loss + sr_loss"
      ],
      "execution_count": 18,
      "outputs": []
    },
    {
      "cell_type": "code",
      "metadata": {
        "id": "WhAutI9VzWw3",
        "colab_type": "code",
        "colab": {
          "base_uri": "https://localhost:8080/",
          "height": 51
        },
        "outputId": "7f3f71c8-4a8b-4d6d-9686-f37ce6204fe5"
      },
      "source": [
        "generator = sr_generator(lr_height, lr_width)\n",
        "discriminator = sr_discriminator(hr_height, hr_width)\n",
        "\n",
        "vgg_extractor = vgg_feature_extraction()\n",
        "\n",
        "gen_optimizer = tf.keras.optimizers.Adam(1e-5, epsilon=1e-9)\n",
        "disc_optimizer = tf.keras.optimizers.Adam(1e-5, epsilon=1e-9)"
      ],
      "execution_count": 19,
      "outputs": [
        {
          "output_type": "stream",
          "text": [
            "Downloading data from https://storage.googleapis.com/tensorflow/keras-applications/vgg19/vgg19_weights_tf_dim_ordering_tf_kernels_notop.h5\n",
            "80142336/80134624 [==============================] - 1s 0us/step\n"
          ],
          "name": "stdout"
        }
      ]
    },
    {
      "cell_type": "code",
      "metadata": {
        "id": "C6S0levOzYXl",
        "colab_type": "code",
        "colab": {}
      },
      "source": [
        "import datetime\n",
        "\n",
        "log_dir = '/content/logs/'\n",
        "checkpoint_dir = '/content/ckpt'\n",
        "checkpoint = tf.train.Checkpoint(generator=generator,\n",
        "                                 discirminator=discriminator,\n",
        "                                 gen_optimizer = gen_optimizer,\n",
        "                                 disc_optimizer = disc_optimizer)\n",
        "\n",
        "ckpt_manager = tf.train.CheckpointManager(checkpoint, directory=checkpoint_dir, max_to_keep=5, keep_checkpoint_every_n_hours=1)\n",
        "\n",
        "summary_writer = tf.summary.create_file_writer(logdir=log_dir + 'fit/' + datetime.datetime.now().strftime('%Y%m%d-%H%M%S'))"
      ],
      "execution_count": 20,
      "outputs": []
    },
    {
      "cell_type": "code",
      "metadata": {
        "id": "nvRvmgeYzvo7",
        "colab_type": "code",
        "colab": {}
      },
      "source": [
        "def train_step(hr_data, lr_data):\n",
        "  with tf.GradientTape() as gen_tape, tf.GradientTape() as disc_tape:\n",
        "    sr_image = generator(lr_data)\n",
        "    \n",
        "    disc_sr = discriminator(sr_image)\n",
        "    disc_hr = discriminator(hr_data)\n",
        "\n",
        "    content_loss = compute_content_vgg_loss(hr_data, sr_image, vgg_extractor)\n",
        "    gen_loss = compute_generator_loss(disc_sr)   # ∑−logD(G(I_LR)\n",
        "    total_gen_loss = content_loss + (10**-3) * gen_loss\n",
        "\n",
        "    disc_loss = compute_discriminator_loss(disc_hr, disc_sr)\n",
        "\n",
        "  gen_gradient = gen_tape.gradient(total_gen_loss, generator.trainable_variables)\n",
        "  disc_gradient = disc_tape.gradient(disc_loss, discriminator.trainable_variables)\n",
        "  gen_optimizer.apply_gradients(zip(gen_gradient, generator.trainable_variables))\n",
        "  disc_optimizer.apply_gradients(zip(disc_gradient, discriminator.trainable_variables))"
      ],
      "execution_count": 21,
      "outputs": []
    },
    {
      "cell_type": "code",
      "metadata": {
        "id": "K6JtSVDYzxmS",
        "colab_type": "code",
        "colab": {}
      },
      "source": [
        "import tqdm\n",
        "\n",
        "def train_srgan(dataset, epochs):\n",
        "  for epoch in tqdm.tqdm_notebook(range(epochs)):\n",
        "    for hr_data, lr_data in dataset:\n",
        "      train_step(hr_data, lr_data)\n",
        "    \n",
        "    if (epoch + 1) % 5 == 0:\n",
        "      ckpt_manager.save()"
      ],
      "execution_count": 22,
      "outputs": []
    },
    {
      "cell_type": "code",
      "metadata": {
        "id": "-TwaooMUzy4d",
        "colab_type": "code",
        "colab": {
          "base_uri": "https://localhost:8080/",
          "height": 100,
          "referenced_widgets": [
            "8916944aba2f415bbe7f378c9f09ad6e",
            "a553c4860f164c0bba7c498e3151eae7",
            "66e9d436f700421a85c4eae1963a1e05",
            "6a486de818174fa29e57be7ff46e8e72",
            "29666a7385a84179bf692cc8a7f081de",
            "8a8de7bd4a0e42b6a588a42de4c06e5d",
            "680d18ff7a034b3ebbd2630bbc246476",
            "b409e7746aff4927a3ab016cc4d7ab69"
          ]
        },
        "outputId": "25524d19-4a70-48af-c768-aed39334eec8"
      },
      "source": [
        "train_srgan(dataset, 100)"
      ],
      "execution_count": null,
      "outputs": [
        {
          "output_type": "stream",
          "text": [
            "/usr/local/lib/python3.6/dist-packages/ipykernel_launcher.py:4: TqdmDeprecationWarning: This function will be removed in tqdm==5.0.0\n",
            "Please use `tqdm.notebook.tqdm` instead of `tqdm.tqdm_notebook`\n",
            "  after removing the cwd from sys.path.\n"
          ],
          "name": "stderr"
        },
        {
          "output_type": "display_data",
          "data": {
            "application/vnd.jupyter.widget-view+json": {
              "model_id": "8916944aba2f415bbe7f378c9f09ad6e",
              "version_minor": 0,
              "version_major": 2
            },
            "text/plain": [
              "HBox(children=(FloatProgress(value=0.0), HTML(value='')))"
            ]
          },
          "metadata": {
            "tags": []
          }
        }
      ]
    },
    {
      "cell_type": "code",
      "metadata": {
        "id": "YPlVQAmuBKXG",
        "colab_type": "code",
        "colab": {}
      },
      "source": [
        ""
      ],
      "execution_count": null,
      "outputs": []
    }
  ]
}